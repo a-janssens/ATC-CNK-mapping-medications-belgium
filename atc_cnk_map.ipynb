{
 "cells": [
  {
   "cell_type": "markdown",
   "id": "2698e781",
   "metadata": {},
   "source": [
    "# INTEGO Prescriptions Cleaning: CNK to ATC mapping"
   ]
  },
  {
   "cell_type": "markdown",
   "id": "4787f039",
   "metadata": {},
   "source": [
    "## 1. Resources"
   ]
  },
  {
   "cell_type": "markdown",
   "id": "4228e418",
   "metadata": {},
   "source": [
    "Belgisch Centrum voor Farmacotherapeutische Informatie ([BCFI](https://www.bcfi.be/nl/)). Downloads available [here](https://www.bcfi.be/nl/download). Most recent file from \"EMD databank\" contains the full list of current medications. However, no mapping to ATC codes. Only to \"HYR\" system. HYR Classification is an internal hierarchical classification used at the BCFI for the layout of the booklet (Gecommentarieerd Geneesmiddelenrepertorium) and the BCFI website. This is not the same classification as the ATC classification system. This information can be found in the SAM2 [Logical Data Dossier](https://www.ehealth.fgov.be/ehealthplatform/file/cc73d96153bbd5448a56f19d925d05b1379c7f21/87d5d82491b214457ddfdd6b4a02d7714b19e767/sam2_-_logical_data_dossier_v2.3.pdf). SAM stand for \"source authentique des médicaments”.\n",
    "\n",
    "ATC coding system in maintained in SAM2 [database](https://www.vas.ehealth.fgov.be/websamcivics/samcivics/#). XML export can be downloaded from there. More information can be found in the SAM [portal](https://www.samportal.be/nl/sam)."
   ]
  },
  {
   "cell_type": "markdown",
   "id": "dc79476f",
   "metadata": {},
   "source": [
    "## 2. Download XML file"
   ]
  },
  {
   "cell_type": "markdown",
   "id": "0af2869c",
   "metadata": {},
   "source": [
    "Download the most recent file in the SAM2 [database](https://www.vas.ehealth.fgov.be/websamcivics/samcivics/#). This will download a folder named \"sam-xxxx\" with x an integer. \n",
    "\n",
    "This folder contains 8 files: \n",
    "- AMP-____.xml\n",
    "- CMP-____.xml\n",
    "- CPN-____.xml\n",
    "- NONMEDICINAL-____.xml\n",
    "- REF-____.xml\n",
    "- RMB-____.xml\n",
    "- RML-____.xml\n",
    "- VMP-____.xml\n",
    "\n",
    "\n",
    "\n",
    "The REF file conatains all the current ATC-codes. The AMP file should contain all CNK codes and ATC codes. You can for example also see how long certain products have been on the market.\n",
    "\n",
    "For the purpose of this project, our primary focus is to extract the ATC and CNK codes belonging to the same medication. "
   ]
  },
  {
   "cell_type": "markdown",
   "id": "f5512b24",
   "metadata": {},
   "source": [
    "## 3. Extract ATC and CNK codes of medications from the AMP XML file"
   ]
  },
  {
   "cell_type": "markdown",
   "id": "9ab0beec",
   "metadata": {},
   "source": [
    "### 3.1. Parsing and exploring the XML file"
   ]
  },
  {
   "cell_type": "markdown",
   "id": "33e0489a",
   "metadata": {},
   "source": [
    "The XML file contains lots or information about medications. We are mainly interested in ATC and CNK codes (and perhaps also the name) for mapping purposes within intego.\n",
    "\n",
    "Resources on parsing XML files: \n",
    "- https://www.datacamp.com/tutorial/python-xml-elementtree\n",
    "- https://stackoverflow.com/questions/64296527/parsing-nested-and-complex-xml-in-python"
   ]
  },
  {
   "cell_type": "markdown",
   "id": "cd7c980f",
   "metadata": {},
   "source": [
    "#### Parsing an xml file"
   ]
  },
  {
   "cell_type": "code",
   "execution_count": 1,
   "id": "e0266312",
   "metadata": {},
   "outputs": [],
   "source": [
    "import numpy as np\n",
    "import pandas as pd\n",
    "import xml.etree.ElementTree as et "
   ]
  },
  {
   "cell_type": "markdown",
   "id": "12c1e4c8",
   "metadata": {},
   "source": [
    "Parse the XML file: read."
   ]
  },
  {
   "cell_type": "code",
   "execution_count": 2,
   "id": "fb10cadd",
   "metadata": {},
   "outputs": [],
   "source": [
    "tree = et.parse('../intego_prescription_mapping/data/sam-8305/AMP-1709262051110.xml')\n",
    "root = tree.getroot()"
   ]
  },
  {
   "cell_type": "markdown",
   "id": "a65d167e",
   "metadata": {},
   "source": [
    "#### Initial exploration of XML file and how to work with it"
   ]
  },
  {
   "cell_type": "code",
   "execution_count": 3,
   "id": "366518fa",
   "metadata": {},
   "outputs": [
    {
     "data": {
      "text/plain": [
       "'{urn:be:fgov:ehealth:samws:v2:export}ExportActualMedicines'"
      ]
     },
     "execution_count": 3,
     "metadata": {},
     "output_type": "execute_result"
    }
   ],
   "source": [
    "root.tag"
   ]
  },
  {
   "cell_type": "code",
   "execution_count": 4,
   "id": "54c340a9",
   "metadata": {},
   "outputs": [
    {
     "data": {
      "text/plain": [
       "{'version': '4.0', 'SamId': 'E.20240301_040048'}"
      ]
     },
     "execution_count": 4,
     "metadata": {},
     "output_type": "execute_result"
    }
   ],
   "source": [
    "root.attrib"
   ]
  },
  {
   "cell_type": "markdown",
   "id": "173c97ed",
   "metadata": {},
   "source": [
    "Childs of the root are 'Amp' which has both or one of the following attributes 'code' and 'vmpCode'. Where the namespace is ns4 = urn:be:fgov:ehealth:samws:v2:export."
   ]
  },
  {
   "cell_type": "raw",
   "id": "6623db18",
   "metadata": {},
   "source": [
    "for child in root: \n",
    "    print(child.tag, child.attrib)"
   ]
  },
  {
   "cell_type": "markdown",
   "id": "a3771c73",
   "metadata": {},
   "source": [
    "elem will recursively go over all children of root."
   ]
  },
  {
   "cell_type": "raw",
   "id": "96d85c4d",
   "metadata": {
    "scrolled": true
   },
   "source": [
    "[elem.tag for elem in root.iter()]"
   ]
  },
  {
   "cell_type": "markdown",
   "id": "1f54d2bb",
   "metadata": {},
   "source": [
    "Ampp is child of Amp and has attribute 'ctiExtended'"
   ]
  },
  {
   "cell_type": "raw",
   "id": "12d48aaa",
   "metadata": {},
   "source": [
    "for ampp in root.iter('{urn:be:fgov:ehealth:samws:v2:export}Ampp'):\n",
    "    print(ampp.attrib)\n"
   ]
  },
  {
   "cell_type": "markdown",
   "id": "e8dab99c",
   "metadata": {},
   "source": [
    "Ampp has child 'Atc' that has attribute 'code'."
   ]
  },
  {
   "cell_type": "raw",
   "id": "fbf213cb",
   "metadata": {},
   "source": [
    "for ampp in root.iter('{urn:be:fgov:ehealth:samws:v2:export}Atc'):\n",
    "    print(ampp.attrib)"
   ]
  },
  {
   "cell_type": "raw",
   "id": "15782f1e",
   "metadata": {},
   "source": [
    "for ids in root.findall('.{urn:be:fgov:ehealth:samws:v2:export}Amp'):\n",
    "    print(ids)"
   ]
  },
  {
   "cell_type": "markdown",
   "id": "ad42f0fd",
   "metadata": {},
   "source": [
    "#### Define namespace"
   ]
  },
  {
   "cell_type": "code",
   "execution_count": 3,
   "id": "03a5edef",
   "metadata": {},
   "outputs": [],
   "source": [
    "# Define Namespace\n",
    "ns = {\n",
    "    'xlmns':\"urn:be:fgov:ehealth:samws:v2:actual:common\",\n",
    "    'ns2':\"urn:be:fgov:ehealth:samws:v2:core\",\n",
    "    'ns3':\"urn:be:fgov:ehealth:samws:v2:company:submit\" ,\n",
    "    'ns4':\"urn:be:fgov:ehealth:samws:v2:export\",\n",
    "    'ns5':\"urn:be:fgov:ehealth:samws:v2:refdata\",\n",
    "    'ns6':\"urn:be:fgov:ehealth:samws:v2:consultation\",\n",
    "    'ns7':\"urn:be:fgov:ehealth:samws:v2:reimbursement:submit\",\n",
    "    'ns8':\"urn:be:fgov:ehealth:samws:v2:reimbursementlaw:submit\",\n",
    "    'ns9':\"urn:be:fgov:ehealth:samws:v2:virtual:common\",\n",
    "    'ns10':\"urn:be:fgov:ehealth:samws:v2:compounding:common\",\n",
    "    'ns11':\"urn:be:fgov:ehealth:samws:v2:nonmedicinal:common\",\n",
    "    'ns12':\"urn:be:fgov:ehealth:samws:v2:actual:status\"\n",
    "}"
   ]
  },
  {
   "cell_type": "markdown",
   "id": "147cab10",
   "metadata": {},
   "source": [
    "TEST: Code to extract date_from, date_to from each Ampp object. Even if one of the attributes is empty."
   ]
  },
  {
   "cell_type": "raw",
   "id": "08b42e3b",
   "metadata": {},
   "source": [
    "for ids in root.findall('.//ns4:Ampp',ns):\n",
    "    name_from = ids.find('ns4:Data', ns).attrib['from']\n",
    "   \n",
    "    \n",
    "    if 'to' in ids.find('ns4:Data', ns).attrib:\n",
    "        name_to = ids.find('ns4:Data', ns).attrib['to']\n",
    "    else: \n",
    "        name_to = None\n",
    "    \n",
    "    print(name_from, \"-\",name_to)\n",
    " "
   ]
  },
  {
   "cell_type": "markdown",
   "id": "af4c130b",
   "metadata": {},
   "source": [
    "TEST code"
   ]
  },
  {
   "cell_type": "code",
   "execution_count": 12,
   "id": "349ef35b",
   "metadata": {},
   "outputs": [],
   "source": [
    "results = []\n",
    "for element in root.findall('ns4:Amp',ns):\n",
    "    key_values = {}\n",
    "    for key in ['vmpCode','code']:\n",
    "        if key in element.attrib:\n",
    "            key_values[key] = element.attrib[key]\n",
    "        else:\n",
    "            key_values[key] = None\n",
    "            \n",
    "            \n",
    "    results.append([\n",
    "        key_values.get('vmpCode',None),\n",
    "        key_values.get('code', None)\n",
    "    ])"
   ]
  },
  {
   "cell_type": "raw",
   "id": "c97a4f0f",
   "metadata": {
    "scrolled": true
   },
   "source": [
    "print(results)"
   ]
  },
  {
   "cell_type": "raw",
   "id": "27ac6c9d",
   "metadata": {
    "scrolled": true
   },
   "source": [
    "for ampp in root.iter('{urn:be:fgov:ehealth:samws:v2:export}Ampp'):\n",
    "    print(ampp.tag)"
   ]
  },
  {
   "cell_type": "raw",
   "id": "08986472",
   "metadata": {},
   "source": [
    "results = []\n",
    "for element in root.findall('ns4:Amp',ns):\n",
    "    key_values = {}\n",
    "    for child in element.iter():\n",
    "        if child.tag == '{urn:be:fgov:ehealth:samws:v2:export}Dmpp':\n",
    "            \n",
    "            print(child.attrib['code'])\n",
    "            \n",
    " "
   ]
  },
  {
   "cell_type": "markdown",
   "id": "0bf9fb0b",
   "metadata": {},
   "source": [
    "### 3.2. Extract all ATC codes and CNK codes."
   ]
  },
  {
   "cell_type": "markdown",
   "id": "c492a454",
   "metadata": {},
   "source": [
    "#### Generate lists of dictionaries "
   ]
  },
  {
   "cell_type": "code",
   "execution_count": 4,
   "id": "eda8d8e5",
   "metadata": {},
   "outputs": [],
   "source": [
    "results_atc = []\n",
    "results_cnk = []\n",
    "i = -1\n",
    "for element in root.findall('ns4:Amp', ns):\n",
    "    i = i+1\n",
    "    for child_ampp in element.findall('ns4:Ampp',ns):\n",
    "        for child_atc in child_ampp.findall('.//ns4:Atc',ns):\n",
    "            results_atc.append(\n",
    "                {\n",
    "                'index':i,\n",
    "                'atc':child_atc.attrib['code']\n",
    "                }\n",
    "                )\n",
    "    \n",
    "        for child_dmpp in child_ampp.findall('ns4:Dmpp',ns):\n",
    "            results_cnk.append(\n",
    "                {\n",
    "                'index':i,\n",
    "                'cnk':child_dmpp.attrib['code'],\n",
    "                'type':child_dmpp.attrib['codeType']\n",
    "                }\n",
    "                )\n",
    "    \n",
    "\n",
    "            \n",
    "     "
   ]
  },
  {
   "cell_type": "markdown",
   "id": "05283e64",
   "metadata": {},
   "source": [
    "#### Convert lists to data frames and save as parquet"
   ]
  },
  {
   "cell_type": "code",
   "execution_count": 43,
   "id": "32ce3ef2",
   "metadata": {},
   "outputs": [],
   "source": [
    "df_atc = pd.DataFrame(results_atc)\n",
    "df_cnk = pd.DataFrame(results_cnk)"
   ]
  },
  {
   "cell_type": "code",
   "execution_count": 44,
   "id": "3bb1e34b",
   "metadata": {},
   "outputs": [],
   "source": [
    "import pyarrow as pa\n",
    "import pyarrow.parquet as pq\n",
    "\n",
    "\n",
    "table_atc = pa.Table.from_pandas(df_atc)\n",
    "table_cnk = pa.Table.from_pandas(df_cnk)\n",
    "\n",
    "pq.write_table(table_atc, 'atc.parquet')\n",
    "pq.write_table(table_cnk, 'cnk.parquet')"
   ]
  },
  {
   "cell_type": "markdown",
   "id": "9d7c372b",
   "metadata": {},
   "source": [
    "#### Continue in R to merge the data frames into one final data frame. "
   ]
  },
  {
   "cell_type": "markdown",
   "id": "fc07efd6",
   "metadata": {},
   "source": []
  },
  {
   "cell_type": "markdown",
   "id": "5b64a633",
   "metadata": {},
   "source": []
  },
  {
   "cell_type": "markdown",
   "id": "f7ff83bb",
   "metadata": {},
   "source": [
    "### 3.3. Extract additional information \n"
   ]
  },
  {
   "cell_type": "markdown",
   "id": "a55d4ae5",
   "metadata": {},
   "source": [
    "We can test the code with a smaller file: "
   ]
  },
  {
   "cell_type": "code",
   "execution_count": 16,
   "id": "edb20ac0",
   "metadata": {},
   "outputs": [],
   "source": [
    "# Test with test file\n",
    "tree = et.parse('../intego_prescription_mapping/data/test.xml')\n",
    "root = tree.getroot()"
   ]
  },
  {
   "cell_type": "markdown",
   "id": "4daecca0",
   "metadata": {},
   "source": [
    "#### 3.3.1. Get Data from \"Data\" elements as direct children of each \"Amp\" element"
   ]
  },
  {
   "cell_type": "markdown",
   "id": "2f0b1a5c",
   "metadata": {},
   "source": [
    "##### From the \"Data\" elements that are direct children of \"Amp\" element, we can extract:\n",
    "- date_from: date from which the record was available. We can derive until when by ordering on this date.\n",
    "\n",
    "And for each Data element with a certain date_from attribute: \n",
    "- OfficialName: Official name of the product \n",
    "- Status: If authorized\n",
    "- PrescriptionNameFamph NL: Dutch specific name\n",
    "\n",
    "Using elem.findtext('',namespaces=ns) is recommended becaus it returns None by default in case the element in of Noetype. The elem.find('').text would return an error. For a similar reason using elem.get('key') instead of elem.attrib['key']"
   ]
  },
  {
   "cell_type": "markdown",
   "id": "66e5a518",
   "metadata": {},
   "source": [
    "##### Test the code "
   ]
  },
  {
   "cell_type": "code",
   "execution_count": 101,
   "id": "2a2257a3",
   "metadata": {},
   "outputs": [
    {
     "name": "stdout",
     "output_type": "stream",
     "text": [
      "0 0 None SAM660978-00 2023-01-10 None Eupatorium Perfoliatum Boiron 5 CH AUTHORIZED Eupatorium Perfoliatum Boiron 5 CH globuli\n",
      "1 0 16469 SAM000025-00 2017-09-19 2023-08-01 Haldol 5 mg/ml AUTHORIZED Haldol 5 mg/ml inj. opl. i.m. amp.\n",
      "1 1 16469 SAM000025-00 1961-07-01 1961-07-01 Haldol 5 mg/ml AUTHORIZED None\n",
      "1 2 16469 SAM000025-00 2023-08-02 None Haldol 5 mg/ml AUTHORIZED Haldol 5 mg/ml inj. opl. i.m. amp.\n",
      "1 3 16469 SAM000025-00 1961-07-02 2016-09-30 Haldol 5 mg/ml AUTHORIZED Haldol 5 mg/ml inj. opl. i.m. amp.\n",
      "1 4 16469 SAM000025-00 2016-10-01 2017-09-18 Haldol 5 mg/ml AUTHORIZED Haldol 5 mg/ml inj. opl. i.m. amp.\n"
     ]
    }
   ],
   "source": [
    "results_data = []\n",
    "i = -1\n",
    "\n",
    "for element in root.findall('ns4:Amp', ns):\n",
    "    i = i+1\n",
    "    j = -1\n",
    "    for child_data in element.findall('ns4:Data',ns):\n",
    "        j=j+1\n",
    "        print(i,\n",
    "              j,\n",
    "              element.get('vmpCode'),\n",
    "              element.get('code'),\n",
    "              #child_data.attrib['from'],\n",
    "              child_data.get('from'),\n",
    "              child_data.get('to'),\n",
    "              #child_data.find('xlmns:OfficialName',ns).text,\n",
    "              child_data.findtext('xlmns:OfficialName',namespaces=ns), # return None as default if NoneType\n",
    "              child_data.findtext('xlmns:Status',namespaces=ns),\n",
    "              child_data.findtext('xlmns:PrescriptionNameFamhp/ns2:Nl',namespaces=ns))\n",
    "                "
   ]
  },
  {
   "cell_type": "markdown",
   "id": "6e192a42",
   "metadata": {},
   "source": [
    "##### Extract the data in a dictionary "
   ]
  },
  {
   "cell_type": "code",
   "execution_count": 106,
   "id": "4d32699e",
   "metadata": {},
   "outputs": [],
   "source": [
    "results_data = []\n",
    "#i = -1\n",
    "for element in root.findall('ns4:Amp', ns):\n",
    "    #i = i+1\n",
    "    #j = -1\n",
    "    for child_data in element.findall('ns4:Data',ns):\n",
    "        #j=j+1\n",
    "        results_data.append(\n",
    "            {\n",
    "                #'amp_index' :i,\n",
    "                #'amp_data_index':j,\n",
    "                'amp_vmpCode':element.get('vmpCode'),\n",
    "                'amp_code':element.get('code'),\n",
    "              #child_data.attrib['from'],\n",
    "                'date_from':child_data.get('from'),\n",
    "                'date_to':child_data.get('to'),\n",
    "              #child_data.find('xlmns:OfficialName',ns).text,\n",
    "                'official_name':child_data.findtext('xlmns:OfficialName',namespaces=ns), # return None as default if NoneType\n",
    "                'status':child_data.findtext('xlmns:Status',namespaces=ns),\n",
    "                'prescription_name_famph_nl':child_data.findtext('xlmns:PrescriptionNameFamhp/ns2:Nl',namespaces=ns),\n",
    "                'prescription_name_nl':child_data.findtext('xlmns:PrescriptionName/ns2:Nl',namespaces=ns)\n",
    "        }\n",
    "        )\n",
    "        \n",
    "# Convert to data frame \n",
    "df_amp_data = pd.DataFrame(results_data)"
   ]
  },
  {
   "cell_type": "code",
   "execution_count": 107,
   "id": "d39f7432",
   "metadata": {},
   "outputs": [
    {
     "data": {
      "text/html": [
       "<div>\n",
       "<style scoped>\n",
       "    .dataframe tbody tr th:only-of-type {\n",
       "        vertical-align: middle;\n",
       "    }\n",
       "\n",
       "    .dataframe tbody tr th {\n",
       "        vertical-align: top;\n",
       "    }\n",
       "\n",
       "    .dataframe thead th {\n",
       "        text-align: right;\n",
       "    }\n",
       "</style>\n",
       "<table border=\"1\" class=\"dataframe\">\n",
       "  <thead>\n",
       "    <tr style=\"text-align: right;\">\n",
       "      <th></th>\n",
       "      <th>amp_index</th>\n",
       "      <th>amp_data_index</th>\n",
       "      <th>amp_vmpCode</th>\n",
       "      <th>amp_code</th>\n",
       "      <th>date_from</th>\n",
       "      <th>date_to</th>\n",
       "      <th>official_name</th>\n",
       "      <th>status</th>\n",
       "      <th>prescription_name_famph_nl</th>\n",
       "      <th>prescription_name_nl</th>\n",
       "    </tr>\n",
       "  </thead>\n",
       "  <tbody>\n",
       "    <tr>\n",
       "      <th>0</th>\n",
       "      <td>0</td>\n",
       "      <td>0</td>\n",
       "      <td>None</td>\n",
       "      <td>SAM660978-00</td>\n",
       "      <td>2023-01-10</td>\n",
       "      <td>None</td>\n",
       "      <td>Eupatorium Perfoliatum Boiron 5 CH</td>\n",
       "      <td>AUTHORIZED</td>\n",
       "      <td>Eupatorium Perfoliatum Boiron 5 CH globuli</td>\n",
       "      <td>None</td>\n",
       "    </tr>\n",
       "    <tr>\n",
       "      <th>1</th>\n",
       "      <td>1</td>\n",
       "      <td>0</td>\n",
       "      <td>16469</td>\n",
       "      <td>SAM000025-00</td>\n",
       "      <td>2017-09-19</td>\n",
       "      <td>2023-08-01</td>\n",
       "      <td>Haldol 5 mg/ml</td>\n",
       "      <td>AUTHORIZED</td>\n",
       "      <td>Haldol 5 mg/ml inj. opl. i.m. amp.</td>\n",
       "      <td>Haldol inj. oploss. i.m. [amp.] 5 mg / 1 ml</td>\n",
       "    </tr>\n",
       "    <tr>\n",
       "      <th>2</th>\n",
       "      <td>1</td>\n",
       "      <td>1</td>\n",
       "      <td>16469</td>\n",
       "      <td>SAM000025-00</td>\n",
       "      <td>1961-07-01</td>\n",
       "      <td>1961-07-01</td>\n",
       "      <td>Haldol 5 mg/ml</td>\n",
       "      <td>AUTHORIZED</td>\n",
       "      <td>None</td>\n",
       "      <td>None</td>\n",
       "    </tr>\n",
       "    <tr>\n",
       "      <th>3</th>\n",
       "      <td>1</td>\n",
       "      <td>2</td>\n",
       "      <td>16469</td>\n",
       "      <td>SAM000025-00</td>\n",
       "      <td>2023-08-02</td>\n",
       "      <td>None</td>\n",
       "      <td>Haldol 5 mg/ml</td>\n",
       "      <td>AUTHORIZED</td>\n",
       "      <td>Haldol 5 mg/ml inj. opl. i.m. amp.</td>\n",
       "      <td>Haldol inj. oploss. i.m. [amp.] 5 mg / 1 ml</td>\n",
       "    </tr>\n",
       "    <tr>\n",
       "      <th>4</th>\n",
       "      <td>1</td>\n",
       "      <td>3</td>\n",
       "      <td>16469</td>\n",
       "      <td>SAM000025-00</td>\n",
       "      <td>1961-07-02</td>\n",
       "      <td>2016-09-30</td>\n",
       "      <td>Haldol 5 mg/ml</td>\n",
       "      <td>AUTHORIZED</td>\n",
       "      <td>Haldol 5 mg/ml inj. opl. i.m. amp.</td>\n",
       "      <td>None</td>\n",
       "    </tr>\n",
       "    <tr>\n",
       "      <th>5</th>\n",
       "      <td>1</td>\n",
       "      <td>4</td>\n",
       "      <td>16469</td>\n",
       "      <td>SAM000025-00</td>\n",
       "      <td>2016-10-01</td>\n",
       "      <td>2017-09-18</td>\n",
       "      <td>Haldol 5 mg/ml</td>\n",
       "      <td>AUTHORIZED</td>\n",
       "      <td>Haldol 5 mg/ml inj. opl. i.m. amp.</td>\n",
       "      <td>Haldol inj. oploss. i.m./i.v. [amp.] 5 mg / 1 ml</td>\n",
       "    </tr>\n",
       "  </tbody>\n",
       "</table>\n",
       "</div>"
      ],
      "text/plain": [
       "   amp_index  amp_data_index amp_vmpCode      amp_code   date_from  \\\n",
       "0          0               0        None  SAM660978-00  2023-01-10   \n",
       "1          1               0       16469  SAM000025-00  2017-09-19   \n",
       "2          1               1       16469  SAM000025-00  1961-07-01   \n",
       "3          1               2       16469  SAM000025-00  2023-08-02   \n",
       "4          1               3       16469  SAM000025-00  1961-07-02   \n",
       "5          1               4       16469  SAM000025-00  2016-10-01   \n",
       "\n",
       "      date_to                       official_name      status  \\\n",
       "0        None  Eupatorium Perfoliatum Boiron 5 CH  AUTHORIZED   \n",
       "1  2023-08-01                      Haldol 5 mg/ml  AUTHORIZED   \n",
       "2  1961-07-01                      Haldol 5 mg/ml  AUTHORIZED   \n",
       "3        None                      Haldol 5 mg/ml  AUTHORIZED   \n",
       "4  2016-09-30                      Haldol 5 mg/ml  AUTHORIZED   \n",
       "5  2017-09-18                      Haldol 5 mg/ml  AUTHORIZED   \n",
       "\n",
       "                   prescription_name_famph_nl  \\\n",
       "0  Eupatorium Perfoliatum Boiron 5 CH globuli   \n",
       "1          Haldol 5 mg/ml inj. opl. i.m. amp.   \n",
       "2                                        None   \n",
       "3          Haldol 5 mg/ml inj. opl. i.m. amp.   \n",
       "4          Haldol 5 mg/ml inj. opl. i.m. amp.   \n",
       "5          Haldol 5 mg/ml inj. opl. i.m. amp.   \n",
       "\n",
       "                               prescription_name_nl  \n",
       "0                                              None  \n",
       "1       Haldol inj. oploss. i.m. [amp.] 5 mg / 1 ml  \n",
       "2                                              None  \n",
       "3       Haldol inj. oploss. i.m. [amp.] 5 mg / 1 ml  \n",
       "4                                              None  \n",
       "5  Haldol inj. oploss. i.m./i.v. [amp.] 5 mg / 1 ml  "
      ]
     },
     "execution_count": 107,
     "metadata": {},
     "output_type": "execute_result"
    }
   ],
   "source": [
    "df_amp_data"
   ]
  },
  {
   "cell_type": "markdown",
   "id": "9149fe40",
   "metadata": {},
   "source": []
  },
  {
   "cell_type": "markdown",
   "id": "75fba150",
   "metadata": {},
   "source": [
    "#### 3.3.2. Get Data from \"AmpComponent\" elements as direct children of each \"Amp\" element\n",
    "\n",
    "Not that important for now, skip this, and revisit when needed."
   ]
  },
  {
   "cell_type": "markdown",
   "id": "f670463e",
   "metadata": {},
   "source": [
    "##### Test the code "
   ]
  },
  {
   "cell_type": "code",
   "execution_count": 112,
   "id": "c511fc25",
   "metadata": {},
   "outputs": [
    {
     "name": "stdout",
     "output_type": "stream",
     "text": [
      "0 0 None SAM660978-00 None 1 2023-02-02 None 239 Globuli 72 Sublinguaal gebruik None None None\n",
      "0 0 None SAM660978-00 None 1 2023-01-10 2023-02-01 239 Globuli 72 Sublinguaal gebruik None None None\n",
      "1\n",
      "1 0 16469 SAM000025-00 16469 1 2017-09-19 2023-08-01 306 Oplossing voor injectie 38 Intramusculair gebruik None None None\n",
      "1 0 16469 SAM000025-00 16469 1 1961-07-01 1961-07-01 306 Oplossing voor injectie 38 Intramusculair gebruik None None None\n",
      "1 0 16469 SAM000025-00 16469 1 2023-08-02 None 306 Oplossing voor injectie 38 Intramusculair gebruik None None None\n",
      "1 0 16469 SAM000025-00 16469 1 1961-07-02 2016-09-30 306 Oplossing voor injectie 38 Intramusculair gebruik None None None\n",
      "1 0 16469 SAM000025-00 16469 1 2016-10-01 2017-09-18 306 Oplossing voor injectie 38 Intramusculair gebruik None None None\n",
      "1\n"
     ]
    }
   ],
   "source": [
    "\n",
    "for element in root.findall('ns4:Amp', ns):\n",
    "\n",
    "    for child_amp_component in element.findall('ns4:AmpComponent',ns):\n",
    "\n",
    "        for child_data in child_amp_component.findall('ns4:Data',ns):\n",
    "            print(\n",
    "                  element.get('vmpCode'),\n",
    "                  element.get('code'),\n",
    "                  child_amp_component.get('vmpComponentCode'),\n",
    "                  child_amp_component.get('sequenceNr'),\n",
    "                  child_data.get('from'),\n",
    "                  child_data.get('to'),\n",
    "                  child_data.find('ns4:PharmaceuticalForm',ns).get('code'),\n",
    "                  child_data.findtext('ns4:PharmaceuticalForm/ns5:Name/ns2:Nl',namespaces=ns),\n",
    "                  child_data.find('ns4:RouteOfAdministration',ns).get('code'),\n",
    "                  child_data.findtext('ns4:RouteOfAdministration/ns5:Name/ns2:Nl',namespaces=ns),\n",
    "                  \n",
    "                  child_data.findtext('xlmns:OfficialName',namespaces=ns), # return None as default if NoneType\n",
    "                  child_data.findtext('xlmns:Status',namespaces=ns),\n",
    "                  child_data.findtext('xlmns:PrescriptionNameFamhp/ns2:Nl',namespaces=ns))\n",
    "            \n",
    "        for child_actual_agent in child_amp_component.findall('ns4:RealActualIngredient',ns):\n",
    "            #for elem in child_actual_agent.findall('ns4:Data',ns):\n",
    "            print(\n",
    "                child_actual_agent.get('rank')\n",
    "            )\n",
    "                "
   ]
  },
  {
   "cell_type": "markdown",
   "id": "5b751eaa",
   "metadata": {},
   "source": []
  },
  {
   "cell_type": "markdown",
   "id": "3239f7e1",
   "metadata": {},
   "source": []
  },
  {
   "cell_type": "markdown",
   "id": "eb00f8a0",
   "metadata": {},
   "source": [
    "#### 3.3.3. Get Data from \"Ampp\" elements as direct children of each \"Amp\" element\n",
    "Important children of Ampp:\n",
    "- Data: (sometimes) contains ATC code\n",
    "- Dmpp: contains CNK code \n",
    "- AmppComponent (skip for now)"
   ]
  },
  {
   "cell_type": "markdown",
   "id": "80068e7e",
   "metadata": {},
   "source": [
    "##### A. \"Data\" childs of \"Ampp\". theh contain information of ATC code."
   ]
  },
  {
   "cell_type": "markdown",
   "id": "5e0c8839",
   "metadata": {},
   "source": [
    "###### Test the code "
   ]
  },
  {
   "cell_type": "code",
   "execution_count": 150,
   "id": "232d6809",
   "metadata": {
    "scrolled": true
   },
   "outputs": [
    {
     "name": "stdout",
     "output_type": "stream",
     "text": [
      "None SAM660978-00 660978-01 2023-01-10 2023-01-31 None None\n",
      "None SAM660978-00 660978-01 2024-01-01 None None None\n",
      "None SAM660978-00 660978-01 2023-02-01 2023-12-31 None None\n",
      "16469 SAM000025-00 000025-01 1961-07-01 1961-07-01 N05AD01 Haloperidol\n",
      "16469 SAM000025-00 000025-01 1961-07-02 None N05AD01 Haloperidol\n",
      "16469 SAM000025-00 000025-02 2020-07-02 2020-09-30 N05AD01 Haloperidol\n",
      "16469 SAM000025-00 000025-02 2022-01-01 2022-05-31 N05AD01 Haloperidol\n",
      "16469 SAM000025-00 000025-02 1961-07-01 1961-07-01 N05AD01 Haloperidol\n",
      "16469 SAM000025-00 000025-02 2022-06-01 2022-12-31 N05AD01 Haloperidol\n",
      "16469 SAM000025-00 000025-02 2016-10-01 2017-06-12 N05AD01 Haloperidol\n",
      "16469 SAM000025-00 000025-02 2020-10-01 2021-12-31 N05AD01 Haloperidol\n",
      "16469 SAM000025-00 000025-02 2017-07-01 2017-09-18 N05AD01 Haloperidol\n",
      "16469 SAM000025-00 000025-02 2024-01-01 None N05AD01 Haloperidol\n",
      "16469 SAM000025-00 000025-02 1961-07-02 2016-09-30 N05AD01 Haloperidol\n",
      "16469 SAM000025-00 000025-02 2023-01-01 2023-12-31 N05AD01 Haloperidol\n",
      "16469 SAM000025-00 000025-02 2017-09-19 2020-06-30 N05AD01 Haloperidol\n",
      "16469 SAM000025-00 000025-02 2020-07-01 2020-07-01 N05AD01 Haloperidol\n",
      "16469 SAM000025-00 000025-02 2017-06-13 2017-06-30 N05AD01 Haloperidol\n",
      "16469 SAM000025-00 000025-03 1961-07-01 1961-07-01 N05AD01 Haloperidol\n",
      "16469 SAM000025-00 000025-03 1961-07-02 None N05AD01 Haloperidol\n",
      "16469 SAM000025-00 000025-04 2019-01-15 None N05AD01 Haloperidol\n"
     ]
    }
   ],
   "source": [
    "i = -1\n",
    "for element in root.findall('ns4:Amp', ns):\n",
    "    i = i+1\n",
    "    j = -1\n",
    "    for child_ampp in element.findall('ns4:Ampp',ns):\n",
    "        j=j+1\n",
    "        for child_data in child_ampp.findall('ns4:Data',ns):\n",
    "            if child_data.find('ns4:Atc',ns) is None: \n",
    "                atc_code = None\n",
    "            else: \n",
    "                atc_code = child_data.find('ns4:Atc',ns).get('code')\n",
    "            \n",
    "            print(\n",
    "                  element.get('vmpCode'),\n",
    "                  element.get('code'),\n",
    "                  child_ampp.get('ctiExtended'),\n",
    "                  child_data.get('from'),\n",
    "                  child_data.get('to'),\n",
    "                  child_data.findtext('xlmns:Status',namespaces=ns),\n",
    "                  child_data.findtext('xlmns:PrescriptionNameFamhp/ns2:Nl',namespaces=ns),\n",
    "               \n",
    "                  atc_code,\n",
    "                  child_data.findtext('ns4:Atc/ns5:Description',namespaces=ns)\n",
    "            )\n",
    "            \n",
    "                    \n",
    "                \n",
    "         "
   ]
  },
  {
   "cell_type": "markdown",
   "id": "39f0e107",
   "metadata": {},
   "source": [
    "##### Extract the data in a dictionary "
   ]
  },
  {
   "cell_type": "code",
   "execution_count": 152,
   "id": "c700d422",
   "metadata": {},
   "outputs": [],
   "source": [
    "results_dict = []\n",
    "\n",
    "for element in root.findall('ns4:Amp', ns):\n",
    "    for child_ampp in element.findall('ns4:Ampp',ns):\n",
    "        for child_data in child_ampp.findall('ns4:Data',ns):\n",
    "            if child_data.find('ns4:Atc',ns) is None: \n",
    "                atc_code = None\n",
    "            else: \n",
    "                atc_code = child_data.find('ns4:Atc',ns).get('code')\n",
    "            \n",
    "            results_dict.append(\n",
    "                {\n",
    "                    'amp_vmpCode':element.get('vmpCode'),\n",
    "                    'amp_code':element.get('code'),\n",
    "                  'cti_extended':child_ampp.get('ctiExtended'),\n",
    "                  'date_from':child_data.get('from'),\n",
    "                  'date_to':child_data.get('to'),\n",
    "                  'status':child_data.findtext('xlmns:Status',namespaces=ns),\n",
    "                  'prescription_name_famph_nl':child_data.findtext('xlmns:PrescriptionNameFamhp/ns2:Nl',namespaces=ns),\n",
    "                  'atc':atc_code,\n",
    "                  'atc_description':child_data.findtext('ns4:Atc/ns5:Description',namespaces=ns)\n",
    "                    \n",
    "                }\n",
    "\n",
    "            )\n",
    "            \n",
    "# Convert to data frame \n",
    "df_ampp = pd.DataFrame(results_dict)      \n",
    "            "
   ]
  },
  {
   "cell_type": "code",
   "execution_count": 153,
   "id": "3fd94a28",
   "metadata": {},
   "outputs": [
    {
     "data": {
      "text/html": [
       "<div>\n",
       "<style scoped>\n",
       "    .dataframe tbody tr th:only-of-type {\n",
       "        vertical-align: middle;\n",
       "    }\n",
       "\n",
       "    .dataframe tbody tr th {\n",
       "        vertical-align: top;\n",
       "    }\n",
       "\n",
       "    .dataframe thead th {\n",
       "        text-align: right;\n",
       "    }\n",
       "</style>\n",
       "<table border=\"1\" class=\"dataframe\">\n",
       "  <thead>\n",
       "    <tr style=\"text-align: right;\">\n",
       "      <th></th>\n",
       "      <th>amp_vmpCode</th>\n",
       "      <th>amp_code</th>\n",
       "      <th>cti_extended</th>\n",
       "      <th>date_from</th>\n",
       "      <th>date_to</th>\n",
       "      <th>atc</th>\n",
       "      <th>atc_description</th>\n",
       "    </tr>\n",
       "  </thead>\n",
       "  <tbody>\n",
       "    <tr>\n",
       "      <th>0</th>\n",
       "      <td>None</td>\n",
       "      <td>SAM660978-00</td>\n",
       "      <td>660978-01</td>\n",
       "      <td>2023-01-10</td>\n",
       "      <td>2023-01-31</td>\n",
       "      <td>None</td>\n",
       "      <td>None</td>\n",
       "    </tr>\n",
       "    <tr>\n",
       "      <th>1</th>\n",
       "      <td>None</td>\n",
       "      <td>SAM660978-00</td>\n",
       "      <td>660978-01</td>\n",
       "      <td>2024-01-01</td>\n",
       "      <td>None</td>\n",
       "      <td>None</td>\n",
       "      <td>None</td>\n",
       "    </tr>\n",
       "    <tr>\n",
       "      <th>2</th>\n",
       "      <td>None</td>\n",
       "      <td>SAM660978-00</td>\n",
       "      <td>660978-01</td>\n",
       "      <td>2023-02-01</td>\n",
       "      <td>2023-12-31</td>\n",
       "      <td>None</td>\n",
       "      <td>None</td>\n",
       "    </tr>\n",
       "    <tr>\n",
       "      <th>3</th>\n",
       "      <td>16469</td>\n",
       "      <td>SAM000025-00</td>\n",
       "      <td>000025-01</td>\n",
       "      <td>1961-07-01</td>\n",
       "      <td>1961-07-01</td>\n",
       "      <td>N05AD01</td>\n",
       "      <td>Haloperidol</td>\n",
       "    </tr>\n",
       "    <tr>\n",
       "      <th>4</th>\n",
       "      <td>16469</td>\n",
       "      <td>SAM000025-00</td>\n",
       "      <td>000025-01</td>\n",
       "      <td>1961-07-02</td>\n",
       "      <td>None</td>\n",
       "      <td>N05AD01</td>\n",
       "      <td>Haloperidol</td>\n",
       "    </tr>\n",
       "    <tr>\n",
       "      <th>5</th>\n",
       "      <td>16469</td>\n",
       "      <td>SAM000025-00</td>\n",
       "      <td>000025-02</td>\n",
       "      <td>2020-07-02</td>\n",
       "      <td>2020-09-30</td>\n",
       "      <td>N05AD01</td>\n",
       "      <td>Haloperidol</td>\n",
       "    </tr>\n",
       "    <tr>\n",
       "      <th>6</th>\n",
       "      <td>16469</td>\n",
       "      <td>SAM000025-00</td>\n",
       "      <td>000025-02</td>\n",
       "      <td>2022-01-01</td>\n",
       "      <td>2022-05-31</td>\n",
       "      <td>N05AD01</td>\n",
       "      <td>Haloperidol</td>\n",
       "    </tr>\n",
       "    <tr>\n",
       "      <th>7</th>\n",
       "      <td>16469</td>\n",
       "      <td>SAM000025-00</td>\n",
       "      <td>000025-02</td>\n",
       "      <td>1961-07-01</td>\n",
       "      <td>1961-07-01</td>\n",
       "      <td>N05AD01</td>\n",
       "      <td>Haloperidol</td>\n",
       "    </tr>\n",
       "    <tr>\n",
       "      <th>8</th>\n",
       "      <td>16469</td>\n",
       "      <td>SAM000025-00</td>\n",
       "      <td>000025-02</td>\n",
       "      <td>2022-06-01</td>\n",
       "      <td>2022-12-31</td>\n",
       "      <td>N05AD01</td>\n",
       "      <td>Haloperidol</td>\n",
       "    </tr>\n",
       "    <tr>\n",
       "      <th>9</th>\n",
       "      <td>16469</td>\n",
       "      <td>SAM000025-00</td>\n",
       "      <td>000025-02</td>\n",
       "      <td>2016-10-01</td>\n",
       "      <td>2017-06-12</td>\n",
       "      <td>N05AD01</td>\n",
       "      <td>Haloperidol</td>\n",
       "    </tr>\n",
       "    <tr>\n",
       "      <th>10</th>\n",
       "      <td>16469</td>\n",
       "      <td>SAM000025-00</td>\n",
       "      <td>000025-02</td>\n",
       "      <td>2020-10-01</td>\n",
       "      <td>2021-12-31</td>\n",
       "      <td>N05AD01</td>\n",
       "      <td>Haloperidol</td>\n",
       "    </tr>\n",
       "    <tr>\n",
       "      <th>11</th>\n",
       "      <td>16469</td>\n",
       "      <td>SAM000025-00</td>\n",
       "      <td>000025-02</td>\n",
       "      <td>2017-07-01</td>\n",
       "      <td>2017-09-18</td>\n",
       "      <td>N05AD01</td>\n",
       "      <td>Haloperidol</td>\n",
       "    </tr>\n",
       "    <tr>\n",
       "      <th>12</th>\n",
       "      <td>16469</td>\n",
       "      <td>SAM000025-00</td>\n",
       "      <td>000025-02</td>\n",
       "      <td>2024-01-01</td>\n",
       "      <td>None</td>\n",
       "      <td>N05AD01</td>\n",
       "      <td>Haloperidol</td>\n",
       "    </tr>\n",
       "    <tr>\n",
       "      <th>13</th>\n",
       "      <td>16469</td>\n",
       "      <td>SAM000025-00</td>\n",
       "      <td>000025-02</td>\n",
       "      <td>1961-07-02</td>\n",
       "      <td>2016-09-30</td>\n",
       "      <td>N05AD01</td>\n",
       "      <td>Haloperidol</td>\n",
       "    </tr>\n",
       "    <tr>\n",
       "      <th>14</th>\n",
       "      <td>16469</td>\n",
       "      <td>SAM000025-00</td>\n",
       "      <td>000025-02</td>\n",
       "      <td>2023-01-01</td>\n",
       "      <td>2023-12-31</td>\n",
       "      <td>N05AD01</td>\n",
       "      <td>Haloperidol</td>\n",
       "    </tr>\n",
       "    <tr>\n",
       "      <th>15</th>\n",
       "      <td>16469</td>\n",
       "      <td>SAM000025-00</td>\n",
       "      <td>000025-02</td>\n",
       "      <td>2017-09-19</td>\n",
       "      <td>2020-06-30</td>\n",
       "      <td>N05AD01</td>\n",
       "      <td>Haloperidol</td>\n",
       "    </tr>\n",
       "    <tr>\n",
       "      <th>16</th>\n",
       "      <td>16469</td>\n",
       "      <td>SAM000025-00</td>\n",
       "      <td>000025-02</td>\n",
       "      <td>2020-07-01</td>\n",
       "      <td>2020-07-01</td>\n",
       "      <td>N05AD01</td>\n",
       "      <td>Haloperidol</td>\n",
       "    </tr>\n",
       "    <tr>\n",
       "      <th>17</th>\n",
       "      <td>16469</td>\n",
       "      <td>SAM000025-00</td>\n",
       "      <td>000025-02</td>\n",
       "      <td>2017-06-13</td>\n",
       "      <td>2017-06-30</td>\n",
       "      <td>N05AD01</td>\n",
       "      <td>Haloperidol</td>\n",
       "    </tr>\n",
       "    <tr>\n",
       "      <th>18</th>\n",
       "      <td>16469</td>\n",
       "      <td>SAM000025-00</td>\n",
       "      <td>000025-03</td>\n",
       "      <td>1961-07-01</td>\n",
       "      <td>1961-07-01</td>\n",
       "      <td>N05AD01</td>\n",
       "      <td>Haloperidol</td>\n",
       "    </tr>\n",
       "    <tr>\n",
       "      <th>19</th>\n",
       "      <td>16469</td>\n",
       "      <td>SAM000025-00</td>\n",
       "      <td>000025-03</td>\n",
       "      <td>1961-07-02</td>\n",
       "      <td>None</td>\n",
       "      <td>N05AD01</td>\n",
       "      <td>Haloperidol</td>\n",
       "    </tr>\n",
       "    <tr>\n",
       "      <th>20</th>\n",
       "      <td>16469</td>\n",
       "      <td>SAM000025-00</td>\n",
       "      <td>000025-04</td>\n",
       "      <td>2019-01-15</td>\n",
       "      <td>None</td>\n",
       "      <td>N05AD01</td>\n",
       "      <td>Haloperidol</td>\n",
       "    </tr>\n",
       "  </tbody>\n",
       "</table>\n",
       "</div>"
      ],
      "text/plain": [
       "   amp_vmpCode      amp_code cti_extended   date_from     date_to      atc  \\\n",
       "0         None  SAM660978-00    660978-01  2023-01-10  2023-01-31     None   \n",
       "1         None  SAM660978-00    660978-01  2024-01-01        None     None   \n",
       "2         None  SAM660978-00    660978-01  2023-02-01  2023-12-31     None   \n",
       "3        16469  SAM000025-00    000025-01  1961-07-01  1961-07-01  N05AD01   \n",
       "4        16469  SAM000025-00    000025-01  1961-07-02        None  N05AD01   \n",
       "5        16469  SAM000025-00    000025-02  2020-07-02  2020-09-30  N05AD01   \n",
       "6        16469  SAM000025-00    000025-02  2022-01-01  2022-05-31  N05AD01   \n",
       "7        16469  SAM000025-00    000025-02  1961-07-01  1961-07-01  N05AD01   \n",
       "8        16469  SAM000025-00    000025-02  2022-06-01  2022-12-31  N05AD01   \n",
       "9        16469  SAM000025-00    000025-02  2016-10-01  2017-06-12  N05AD01   \n",
       "10       16469  SAM000025-00    000025-02  2020-10-01  2021-12-31  N05AD01   \n",
       "11       16469  SAM000025-00    000025-02  2017-07-01  2017-09-18  N05AD01   \n",
       "12       16469  SAM000025-00    000025-02  2024-01-01        None  N05AD01   \n",
       "13       16469  SAM000025-00    000025-02  1961-07-02  2016-09-30  N05AD01   \n",
       "14       16469  SAM000025-00    000025-02  2023-01-01  2023-12-31  N05AD01   \n",
       "15       16469  SAM000025-00    000025-02  2017-09-19  2020-06-30  N05AD01   \n",
       "16       16469  SAM000025-00    000025-02  2020-07-01  2020-07-01  N05AD01   \n",
       "17       16469  SAM000025-00    000025-02  2017-06-13  2017-06-30  N05AD01   \n",
       "18       16469  SAM000025-00    000025-03  1961-07-01  1961-07-01  N05AD01   \n",
       "19       16469  SAM000025-00    000025-03  1961-07-02        None  N05AD01   \n",
       "20       16469  SAM000025-00    000025-04  2019-01-15        None  N05AD01   \n",
       "\n",
       "   atc_description  \n",
       "0             None  \n",
       "1             None  \n",
       "2             None  \n",
       "3      Haloperidol  \n",
       "4      Haloperidol  \n",
       "5      Haloperidol  \n",
       "6      Haloperidol  \n",
       "7      Haloperidol  \n",
       "8      Haloperidol  \n",
       "9      Haloperidol  \n",
       "10     Haloperidol  \n",
       "11     Haloperidol  \n",
       "12     Haloperidol  \n",
       "13     Haloperidol  \n",
       "14     Haloperidol  \n",
       "15     Haloperidol  \n",
       "16     Haloperidol  \n",
       "17     Haloperidol  \n",
       "18     Haloperidol  \n",
       "19     Haloperidol  \n",
       "20     Haloperidol  "
      ]
     },
     "execution_count": 153,
     "metadata": {},
     "output_type": "execute_result"
    }
   ],
   "source": [
    "df_ampp"
   ]
  },
  {
   "cell_type": "markdown",
   "id": "b34bfbf0",
   "metadata": {},
   "source": [
    "##### B. \"Dmpp\" childs of \"Ampp\". They contain the CNK code "
   ]
  },
  {
   "cell_type": "markdown",
   "id": "3d15d3e3",
   "metadata": {},
   "source": [
    "###### Test code"
   ]
  },
  {
   "cell_type": "code",
   "execution_count": 151,
   "id": "c3c45e62",
   "metadata": {
    "scrolled": false
   },
   "outputs": [
    {
     "name": "stdout",
     "output_type": "stream",
     "text": [
      "None SAM660978-00 660978-01 P 3104965 CNK\n",
      "16469 SAM000025-00 000025-02 P 0046128 CNK\n",
      "16469 SAM000025-00 000025-02 H 0708289 CNK\n",
      "16469 SAM000025-00 000025-02 A 0708289 CNK\n"
     ]
    }
   ],
   "source": [
    "i = -1\n",
    "for element in root.findall('ns4:Amp', ns):\n",
    "    i = i+1\n",
    "    j = -1\n",
    "    for child_ampp in element.findall('ns4:Ampp',ns):\n",
    "        j=j+1\n",
    "        for child_dmpp in child_ampp.findall('ns4:Dmpp',ns):\n",
    "            \n",
    "            print(\n",
    "                  element.get('vmpCode'),\n",
    "                  element.get('code'),\n",
    "                  child_ampp.get('ctiExtended'),\n",
    "                  child_dmpp.get('deliveryEnvironment'),\n",
    "                  child_dmpp.get('code'),\n",
    "                  child_dmpp.get('codeType'),\n",
    "            )\n",
    "            \n",
    "                    \n",
    "                \n",
    "         "
   ]
  },
  {
   "cell_type": "markdown",
   "id": "8b428e12",
   "metadata": {},
   "source": [
    "##### Extract the data in a dictionary "
   ]
  },
  {
   "cell_type": "code",
   "execution_count": 154,
   "id": "1564309a",
   "metadata": {},
   "outputs": [],
   "source": [
    "results_dict = []\n",
    "for element in root.findall('ns4:Amp', ns):\n",
    "    for child_ampp in element.findall('ns4:Ampp',ns):\n",
    "\n",
    "        for child_dmpp in child_ampp.findall('ns4:Dmpp',ns):\n",
    "            \n",
    "            results_dict.append(\n",
    "                {\n",
    "                  'amp_vmpCode':element.get('vmpCode'),\n",
    "                  'amp_code':element.get('code'),\n",
    "                  'cti_extended':child_ampp.get('ctiExtended'),\n",
    "                  'delivery_env':child_dmpp.get('deliveryEnvironment'),\n",
    "                  'cnk':child_dmpp.get('code'),\n",
    "                  'code_type':child_dmpp.get('codeType')  \n",
    "                }\n",
    "                  \n",
    "            )\n",
    "\n",
    "# Convert to data frame \n",
    "df_dmpp = pd.DataFrame(results_dict) "
   ]
  },
  {
   "cell_type": "code",
   "execution_count": 155,
   "id": "00b19f11",
   "metadata": {},
   "outputs": [
    {
     "data": {
      "text/html": [
       "<div>\n",
       "<style scoped>\n",
       "    .dataframe tbody tr th:only-of-type {\n",
       "        vertical-align: middle;\n",
       "    }\n",
       "\n",
       "    .dataframe tbody tr th {\n",
       "        vertical-align: top;\n",
       "    }\n",
       "\n",
       "    .dataframe thead th {\n",
       "        text-align: right;\n",
       "    }\n",
       "</style>\n",
       "<table border=\"1\" class=\"dataframe\">\n",
       "  <thead>\n",
       "    <tr style=\"text-align: right;\">\n",
       "      <th></th>\n",
       "      <th>amp_vmpCode</th>\n",
       "      <th>amp_code</th>\n",
       "      <th>cti_extended</th>\n",
       "      <th>delivery_env</th>\n",
       "      <th>cnk</th>\n",
       "      <th>code_type</th>\n",
       "    </tr>\n",
       "  </thead>\n",
       "  <tbody>\n",
       "    <tr>\n",
       "      <th>0</th>\n",
       "      <td>None</td>\n",
       "      <td>SAM660978-00</td>\n",
       "      <td>660978-01</td>\n",
       "      <td>P</td>\n",
       "      <td>3104965</td>\n",
       "      <td>CNK</td>\n",
       "    </tr>\n",
       "    <tr>\n",
       "      <th>1</th>\n",
       "      <td>16469</td>\n",
       "      <td>SAM000025-00</td>\n",
       "      <td>000025-02</td>\n",
       "      <td>P</td>\n",
       "      <td>0046128</td>\n",
       "      <td>CNK</td>\n",
       "    </tr>\n",
       "    <tr>\n",
       "      <th>2</th>\n",
       "      <td>16469</td>\n",
       "      <td>SAM000025-00</td>\n",
       "      <td>000025-02</td>\n",
       "      <td>H</td>\n",
       "      <td>0708289</td>\n",
       "      <td>CNK</td>\n",
       "    </tr>\n",
       "    <tr>\n",
       "      <th>3</th>\n",
       "      <td>16469</td>\n",
       "      <td>SAM000025-00</td>\n",
       "      <td>000025-02</td>\n",
       "      <td>A</td>\n",
       "      <td>0708289</td>\n",
       "      <td>CNK</td>\n",
       "    </tr>\n",
       "  </tbody>\n",
       "</table>\n",
       "</div>"
      ],
      "text/plain": [
       "  amp_vmpCode      amp_code cti_extended delivery_env      cnk code_type\n",
       "0        None  SAM660978-00    660978-01            P  3104965       CNK\n",
       "1       16469  SAM000025-00    000025-02            P  0046128       CNK\n",
       "2       16469  SAM000025-00    000025-02            H  0708289       CNK\n",
       "3       16469  SAM000025-00    000025-02            A  0708289       CNK"
      ]
     },
     "execution_count": 155,
     "metadata": {},
     "output_type": "execute_result"
    }
   ],
   "source": [
    "df_dmpp"
   ]
  },
  {
   "cell_type": "markdown",
   "id": "5430e65c",
   "metadata": {},
   "source": [
    "##### C. \"AmppComponent\" childs of \"Ampp\" - SKIP for now.\n",
    "Does not contain useful information for now."
   ]
  },
  {
   "cell_type": "code",
   "execution_count": null,
   "id": "58e0f735",
   "metadata": {},
   "outputs": [],
   "source": [
    "i = -1\n",
    "for element in root.findall('ns4:Amp', ns):\n",
    "    i = i+1\n",
    "    j = -1\n",
    "    for child_ampp in element.findall('ns4:Ampp',ns):\n",
    "        j=j+1\n",
    "        for child_data in child_ampp.findall('ns4:AmppComponent',ns):\n",
    "            print(i,\n",
    "                  j,\n",
    "                  element.get('vmpCode'),\n",
    "                  element.get('code'),\n",
    "                  child_ampp.get('sequenceNr'),\n",
    "                  child_data.get('from'),\n",
    "                  child_data.get('to'),\n",
    "                  child_data.findtext('xlmns:Status',namespaces=ns),\n",
    "                  child_data.findtext('xlmns:PrescriptionNameFamhp/ns2:Nl',namespaces=ns))\n",
    "\n",
    "                  child_data.findtext('xlmns:OfficialName',namespaces=ns), # return None as default if NoneType\n",
    "            \n",
    "        for child_actual_agent in child_ampp.findall('ns4:AmppComponent',ns):\n",
    "            #for elem in child_actual_agent.findall('ns4:Data',ns):\n",
    "            print(\n",
    "                child_actual_agent.get('rank')\n",
    "            )"
   ]
  },
  {
   "cell_type": "markdown",
   "id": "f817175d",
   "metadata": {},
   "source": []
  },
  {
   "cell_type": "markdown",
   "id": "26dd27c8",
   "metadata": {},
   "source": []
  },
  {
   "cell_type": "markdown",
   "id": "d198abe0",
   "metadata": {},
   "source": [
    "### 3.4. Final extraction \n",
    "Final version of extracting ATC and CNK codes from this file as of 2024.04.10.\n",
    "\n",
    "See section 3.3. for more explanation and test code. "
   ]
  },
  {
   "cell_type": "code",
   "execution_count": 2,
   "id": "613c6d89",
   "metadata": {},
   "outputs": [],
   "source": [
    "# Get the entire file \n",
    "tree = et.parse('../intego_prescription_mapping/data/sam-8305/AMP-1709262051110.xml')\n",
    "root = tree.getroot()"
   ]
  },
  {
   "cell_type": "code",
   "execution_count": 4,
   "id": "d074fd87",
   "metadata": {},
   "outputs": [],
   "source": [
    "# Define Namespace\n",
    "ns = {\n",
    "    'xlmns':\"urn:be:fgov:ehealth:samws:v2:actual:common\",\n",
    "    'ns2':\"urn:be:fgov:ehealth:samws:v2:core\",\n",
    "    'ns3':\"urn:be:fgov:ehealth:samws:v2:company:submit\" ,\n",
    "    'ns4':\"urn:be:fgov:ehealth:samws:v2:export\",\n",
    "    'ns5':\"urn:be:fgov:ehealth:samws:v2:refdata\",\n",
    "    'ns6':\"urn:be:fgov:ehealth:samws:v2:consultation\",\n",
    "    'ns7':\"urn:be:fgov:ehealth:samws:v2:reimbursement:submit\",\n",
    "    'ns8':\"urn:be:fgov:ehealth:samws:v2:reimbursementlaw:submit\",\n",
    "    'ns9':\"urn:be:fgov:ehealth:samws:v2:virtual:common\",\n",
    "    'ns10':\"urn:be:fgov:ehealth:samws:v2:compounding:common\",\n",
    "    'ns11':\"urn:be:fgov:ehealth:samws:v2:nonmedicinal:common\",\n",
    "    'ns12':\"urn:be:fgov:ehealth:samws:v2:actual:status\"\n",
    "}"
   ]
  },
  {
   "cell_type": "markdown",
   "id": "a2fa8a3c",
   "metadata": {},
   "source": [
    "#### 3.4.1. Get data from the direct \"Data\" children of \"Amp\""
   ]
  },
  {
   "cell_type": "code",
   "execution_count": 5,
   "id": "21ad9eb2",
   "metadata": {},
   "outputs": [],
   "source": [
    "results_data = []\n",
    "for element in root.findall('ns4:Amp', ns):\n",
    "    for child_data in element.findall('ns4:Data',ns):\n",
    "        results_data.append(\n",
    "            {\n",
    "\n",
    "                'amp_vmpCode':element.get('vmpCode'),\n",
    "                'amp_code':element.get('code'),\n",
    "                'date_from':child_data.get('from'),\n",
    "                'date_to':child_data.get('to'),\n",
    "                'official_name':child_data.findtext('xlmns:OfficialName',namespaces=ns), # return None as default if NoneType\n",
    "                'status':child_data.findtext('xlmns:Status',namespaces=ns),\n",
    "                'prescription_name_famph_nl':child_data.findtext('xlmns:PrescriptionNameFamhp/ns2:Nl',namespaces=ns),\n",
    "                'prescription_name_nl':child_data.findtext('xlmns:PrescriptionName/ns2:Nl',namespaces=ns)\n",
    "        }\n",
    "        )\n",
    "        \n",
    "# Convert to data frame \n",
    "df_amp_data = pd.DataFrame(results_data)"
   ]
  },
  {
   "cell_type": "code",
   "execution_count": 6,
   "id": "236504f3",
   "metadata": {},
   "outputs": [
    {
     "data": {
      "text/html": [
       "<div>\n",
       "<style scoped>\n",
       "    .dataframe tbody tr th:only-of-type {\n",
       "        vertical-align: middle;\n",
       "    }\n",
       "\n",
       "    .dataframe tbody tr th {\n",
       "        vertical-align: top;\n",
       "    }\n",
       "\n",
       "    .dataframe thead th {\n",
       "        text-align: right;\n",
       "    }\n",
       "</style>\n",
       "<table border=\"1\" class=\"dataframe\">\n",
       "  <thead>\n",
       "    <tr style=\"text-align: right;\">\n",
       "      <th></th>\n",
       "      <th>amp_vmpCode</th>\n",
       "      <th>amp_code</th>\n",
       "      <th>date_from</th>\n",
       "      <th>date_to</th>\n",
       "      <th>official_name</th>\n",
       "      <th>status</th>\n",
       "      <th>prescription_name_famph_nl</th>\n",
       "      <th>prescription_name_nl</th>\n",
       "    </tr>\n",
       "  </thead>\n",
       "  <tbody>\n",
       "    <tr>\n",
       "      <th>0</th>\n",
       "      <td>None</td>\n",
       "      <td>SAM660978-00</td>\n",
       "      <td>2023-01-10</td>\n",
       "      <td>None</td>\n",
       "      <td>Eupatorium Perfoliatum Boiron 5 CH</td>\n",
       "      <td>AUTHORIZED</td>\n",
       "      <td>Eupatorium Perfoliatum Boiron 5 CH globuli</td>\n",
       "      <td>None</td>\n",
       "    </tr>\n",
       "    <tr>\n",
       "      <th>1</th>\n",
       "      <td>16469</td>\n",
       "      <td>SAM000025-00</td>\n",
       "      <td>2017-09-19</td>\n",
       "      <td>2023-08-01</td>\n",
       "      <td>Haldol 5 mg/ml</td>\n",
       "      <td>AUTHORIZED</td>\n",
       "      <td>Haldol 5 mg/ml inj. opl. i.m. amp.</td>\n",
       "      <td>Haldol inj. oploss. i.m. [amp.] 5 mg / 1 ml</td>\n",
       "    </tr>\n",
       "    <tr>\n",
       "      <th>2</th>\n",
       "      <td>16469</td>\n",
       "      <td>SAM000025-00</td>\n",
       "      <td>1961-07-01</td>\n",
       "      <td>1961-07-01</td>\n",
       "      <td>Haldol 5 mg/ml</td>\n",
       "      <td>AUTHORIZED</td>\n",
       "      <td>None</td>\n",
       "      <td>None</td>\n",
       "    </tr>\n",
       "    <tr>\n",
       "      <th>3</th>\n",
       "      <td>16469</td>\n",
       "      <td>SAM000025-00</td>\n",
       "      <td>2023-08-02</td>\n",
       "      <td>None</td>\n",
       "      <td>Haldol 5 mg/ml</td>\n",
       "      <td>AUTHORIZED</td>\n",
       "      <td>Haldol 5 mg/ml inj. opl. i.m. amp.</td>\n",
       "      <td>Haldol inj. oploss. i.m. [amp.] 5 mg / 1 ml</td>\n",
       "    </tr>\n",
       "    <tr>\n",
       "      <th>4</th>\n",
       "      <td>16469</td>\n",
       "      <td>SAM000025-00</td>\n",
       "      <td>1961-07-02</td>\n",
       "      <td>2016-09-30</td>\n",
       "      <td>Haldol 5 mg/ml</td>\n",
       "      <td>AUTHORIZED</td>\n",
       "      <td>Haldol 5 mg/ml inj. opl. i.m. amp.</td>\n",
       "      <td>None</td>\n",
       "    </tr>\n",
       "  </tbody>\n",
       "</table>\n",
       "</div>"
      ],
      "text/plain": [
       "  amp_vmpCode      amp_code   date_from     date_to  \\\n",
       "0        None  SAM660978-00  2023-01-10        None   \n",
       "1       16469  SAM000025-00  2017-09-19  2023-08-01   \n",
       "2       16469  SAM000025-00  1961-07-01  1961-07-01   \n",
       "3       16469  SAM000025-00  2023-08-02        None   \n",
       "4       16469  SAM000025-00  1961-07-02  2016-09-30   \n",
       "\n",
       "                        official_name      status  \\\n",
       "0  Eupatorium Perfoliatum Boiron 5 CH  AUTHORIZED   \n",
       "1                      Haldol 5 mg/ml  AUTHORIZED   \n",
       "2                      Haldol 5 mg/ml  AUTHORIZED   \n",
       "3                      Haldol 5 mg/ml  AUTHORIZED   \n",
       "4                      Haldol 5 mg/ml  AUTHORIZED   \n",
       "\n",
       "                   prescription_name_famph_nl  \\\n",
       "0  Eupatorium Perfoliatum Boiron 5 CH globuli   \n",
       "1          Haldol 5 mg/ml inj. opl. i.m. amp.   \n",
       "2                                        None   \n",
       "3          Haldol 5 mg/ml inj. opl. i.m. amp.   \n",
       "4          Haldol 5 mg/ml inj. opl. i.m. amp.   \n",
       "\n",
       "                          prescription_name_nl  \n",
       "0                                         None  \n",
       "1  Haldol inj. oploss. i.m. [amp.] 5 mg / 1 ml  \n",
       "2                                         None  \n",
       "3  Haldol inj. oploss. i.m. [amp.] 5 mg / 1 ml  \n",
       "4                                         None  "
      ]
     },
     "execution_count": 6,
     "metadata": {},
     "output_type": "execute_result"
    }
   ],
   "source": [
    "df_amp_data.head()"
   ]
  },
  {
   "cell_type": "markdown",
   "id": "c9ce84c3",
   "metadata": {},
   "source": [
    "#### 3.4.2. Get data from the direct \"Ampp\" children of \"Amp\"\n",
    "\n",
    "Important children of Ampp:\n",
    "- Data: (sometimes) contains ATC code\n",
    "- Dmpp: contains CNK code \n",
    "- (AmppComponent (skip for now))"
   ]
  },
  {
   "cell_type": "markdown",
   "id": "71475161",
   "metadata": {},
   "source": [
    "#### A. Data children: ATC"
   ]
  },
  {
   "cell_type": "code",
   "execution_count": 7,
   "id": "78842be7",
   "metadata": {},
   "outputs": [],
   "source": [
    "results_dict = []\n",
    "\n",
    "for element in root.findall('ns4:Amp', ns):\n",
    "    for child_ampp in element.findall('ns4:Ampp',ns):\n",
    "        for child_data in child_ampp.findall('ns4:Data',ns):\n",
    "            if child_data.find('ns4:Atc',ns) is None: \n",
    "                atc_code = None\n",
    "            else: \n",
    "                atc_code = child_data.find('ns4:Atc',ns).get('code')\n",
    "            \n",
    "            results_dict.append(\n",
    "                {\n",
    "                    'amp_vmpCode':element.get('vmpCode'),\n",
    "                    'amp_code':element.get('code'),\n",
    "                  'cti_extended':child_ampp.get('ctiExtended'),\n",
    "                  'date_from':child_data.get('from'),\n",
    "                  'date_to':child_data.get('to'),\n",
    "                  'status':child_data.findtext('xlmns:Status',namespaces=ns),\n",
    "                  'prescription_name_famph_nl':child_data.findtext('xlmns:PrescriptionNameFamhp/ns2:Nl',namespaces=ns),\n",
    "                  'atc':atc_code,\n",
    "                  'atc_description':child_data.findtext('ns4:Atc/ns5:Description',namespaces=ns)\n",
    "                    \n",
    "                }\n",
    "\n",
    "            )\n",
    "            \n",
    "# Convert to data frame \n",
    "df_ampp = pd.DataFrame(results_dict)      \n",
    "            "
   ]
  },
  {
   "cell_type": "code",
   "execution_count": 8,
   "id": "a4c93137",
   "metadata": {},
   "outputs": [
    {
     "data": {
      "text/html": [
       "<div>\n",
       "<style scoped>\n",
       "    .dataframe tbody tr th:only-of-type {\n",
       "        vertical-align: middle;\n",
       "    }\n",
       "\n",
       "    .dataframe tbody tr th {\n",
       "        vertical-align: top;\n",
       "    }\n",
       "\n",
       "    .dataframe thead th {\n",
       "        text-align: right;\n",
       "    }\n",
       "</style>\n",
       "<table border=\"1\" class=\"dataframe\">\n",
       "  <thead>\n",
       "    <tr style=\"text-align: right;\">\n",
       "      <th></th>\n",
       "      <th>amp_vmpCode</th>\n",
       "      <th>amp_code</th>\n",
       "      <th>cti_extended</th>\n",
       "      <th>date_from</th>\n",
       "      <th>date_to</th>\n",
       "      <th>status</th>\n",
       "      <th>prescription_name_famph_nl</th>\n",
       "      <th>atc</th>\n",
       "      <th>atc_description</th>\n",
       "    </tr>\n",
       "  </thead>\n",
       "  <tbody>\n",
       "    <tr>\n",
       "      <th>0</th>\n",
       "      <td>None</td>\n",
       "      <td>SAM660978-00</td>\n",
       "      <td>660978-01</td>\n",
       "      <td>2023-01-10</td>\n",
       "      <td>2023-01-31</td>\n",
       "      <td>AUTHORIZED</td>\n",
       "      <td>Eupatorium Perfoliatum Boiron 5 CH globuli 4 g</td>\n",
       "      <td>None</td>\n",
       "      <td>None</td>\n",
       "    </tr>\n",
       "    <tr>\n",
       "      <th>1</th>\n",
       "      <td>None</td>\n",
       "      <td>SAM660978-00</td>\n",
       "      <td>660978-01</td>\n",
       "      <td>2024-01-01</td>\n",
       "      <td>None</td>\n",
       "      <td>AUTHORIZED</td>\n",
       "      <td>Eupatorium Perfoliatum Boiron 5 CH globuli 4 g</td>\n",
       "      <td>None</td>\n",
       "      <td>None</td>\n",
       "    </tr>\n",
       "    <tr>\n",
       "      <th>2</th>\n",
       "      <td>None</td>\n",
       "      <td>SAM660978-00</td>\n",
       "      <td>660978-01</td>\n",
       "      <td>2023-02-01</td>\n",
       "      <td>2023-12-31</td>\n",
       "      <td>AUTHORIZED</td>\n",
       "      <td>Eupatorium Perfoliatum Boiron 5 CH globuli 4 g</td>\n",
       "      <td>None</td>\n",
       "      <td>None</td>\n",
       "    </tr>\n",
       "    <tr>\n",
       "      <th>3</th>\n",
       "      <td>16469</td>\n",
       "      <td>SAM000025-00</td>\n",
       "      <td>000025-01</td>\n",
       "      <td>1961-07-01</td>\n",
       "      <td>1961-07-01</td>\n",
       "      <td>AUTHORIZED</td>\n",
       "      <td>None</td>\n",
       "      <td>N05AD01</td>\n",
       "      <td>Haloperidol</td>\n",
       "    </tr>\n",
       "    <tr>\n",
       "      <th>4</th>\n",
       "      <td>16469</td>\n",
       "      <td>SAM000025-00</td>\n",
       "      <td>000025-01</td>\n",
       "      <td>1961-07-02</td>\n",
       "      <td>None</td>\n",
       "      <td>AUTHORIZED</td>\n",
       "      <td>Haldol 5 mg/ml inj. opl. i.m. amp. 1 ml</td>\n",
       "      <td>N05AD01</td>\n",
       "      <td>Haloperidol</td>\n",
       "    </tr>\n",
       "  </tbody>\n",
       "</table>\n",
       "</div>"
      ],
      "text/plain": [
       "  amp_vmpCode      amp_code cti_extended   date_from     date_to      status  \\\n",
       "0        None  SAM660978-00    660978-01  2023-01-10  2023-01-31  AUTHORIZED   \n",
       "1        None  SAM660978-00    660978-01  2024-01-01        None  AUTHORIZED   \n",
       "2        None  SAM660978-00    660978-01  2023-02-01  2023-12-31  AUTHORIZED   \n",
       "3       16469  SAM000025-00    000025-01  1961-07-01  1961-07-01  AUTHORIZED   \n",
       "4       16469  SAM000025-00    000025-01  1961-07-02        None  AUTHORIZED   \n",
       "\n",
       "                       prescription_name_famph_nl      atc atc_description  \n",
       "0  Eupatorium Perfoliatum Boiron 5 CH globuli 4 g     None            None  \n",
       "1  Eupatorium Perfoliatum Boiron 5 CH globuli 4 g     None            None  \n",
       "2  Eupatorium Perfoliatum Boiron 5 CH globuli 4 g     None            None  \n",
       "3                                            None  N05AD01     Haloperidol  \n",
       "4         Haldol 5 mg/ml inj. opl. i.m. amp. 1 ml  N05AD01     Haloperidol  "
      ]
     },
     "execution_count": 8,
     "metadata": {},
     "output_type": "execute_result"
    }
   ],
   "source": [
    "df_ampp.head()"
   ]
  },
  {
   "cell_type": "markdown",
   "id": "0e1cc4db",
   "metadata": {},
   "source": [
    "#### B. Dmpp children: CNK"
   ]
  },
  {
   "cell_type": "code",
   "execution_count": 9,
   "id": "4dfc2b1e",
   "metadata": {},
   "outputs": [],
   "source": [
    "results_dict = []\n",
    "for element in root.findall('ns4:Amp', ns):\n",
    "    for child_ampp in element.findall('ns4:Ampp',ns):\n",
    "\n",
    "        for child_dmpp in child_ampp.findall('ns4:Dmpp',ns):\n",
    "            \n",
    "            results_dict.append(\n",
    "                {\n",
    "                  'amp_vmpCode':element.get('vmpCode'),\n",
    "                  'amp_code':element.get('code'),\n",
    "                  'cti_extended':child_ampp.get('ctiExtended'),\n",
    "                  'delivery_env':child_dmpp.get('deliveryEnvironment'),\n",
    "                  'cnk':child_dmpp.get('code'),\n",
    "                  'code_type':child_dmpp.get('codeType')  \n",
    "                }\n",
    "                  \n",
    "            )\n",
    "\n",
    "# Convert to data frame \n",
    "df_dmpp = pd.DataFrame(results_dict) "
   ]
  },
  {
   "cell_type": "code",
   "execution_count": 10,
   "id": "9c649951",
   "metadata": {
    "scrolled": true
   },
   "outputs": [
    {
     "data": {
      "text/html": [
       "<div>\n",
       "<style scoped>\n",
       "    .dataframe tbody tr th:only-of-type {\n",
       "        vertical-align: middle;\n",
       "    }\n",
       "\n",
       "    .dataframe tbody tr th {\n",
       "        vertical-align: top;\n",
       "    }\n",
       "\n",
       "    .dataframe thead th {\n",
       "        text-align: right;\n",
       "    }\n",
       "</style>\n",
       "<table border=\"1\" class=\"dataframe\">\n",
       "  <thead>\n",
       "    <tr style=\"text-align: right;\">\n",
       "      <th></th>\n",
       "      <th>amp_vmpCode</th>\n",
       "      <th>amp_code</th>\n",
       "      <th>cti_extended</th>\n",
       "      <th>delivery_env</th>\n",
       "      <th>cnk</th>\n",
       "      <th>code_type</th>\n",
       "    </tr>\n",
       "  </thead>\n",
       "  <tbody>\n",
       "    <tr>\n",
       "      <th>0</th>\n",
       "      <td>None</td>\n",
       "      <td>SAM660978-00</td>\n",
       "      <td>660978-01</td>\n",
       "      <td>P</td>\n",
       "      <td>3104965</td>\n",
       "      <td>CNK</td>\n",
       "    </tr>\n",
       "    <tr>\n",
       "      <th>1</th>\n",
       "      <td>16469</td>\n",
       "      <td>SAM000025-00</td>\n",
       "      <td>000025-02</td>\n",
       "      <td>P</td>\n",
       "      <td>0046128</td>\n",
       "      <td>CNK</td>\n",
       "    </tr>\n",
       "    <tr>\n",
       "      <th>2</th>\n",
       "      <td>16469</td>\n",
       "      <td>SAM000025-00</td>\n",
       "      <td>000025-02</td>\n",
       "      <td>H</td>\n",
       "      <td>0708289</td>\n",
       "      <td>CNK</td>\n",
       "    </tr>\n",
       "    <tr>\n",
       "      <th>3</th>\n",
       "      <td>16469</td>\n",
       "      <td>SAM000025-00</td>\n",
       "      <td>000025-02</td>\n",
       "      <td>A</td>\n",
       "      <td>0708289</td>\n",
       "      <td>CNK</td>\n",
       "    </tr>\n",
       "    <tr>\n",
       "      <th>4</th>\n",
       "      <td>None</td>\n",
       "      <td>SAM660980-00</td>\n",
       "      <td>660980-01</td>\n",
       "      <td>P</td>\n",
       "      <td>3104981</td>\n",
       "      <td>CNK</td>\n",
       "    </tr>\n",
       "  </tbody>\n",
       "</table>\n",
       "</div>"
      ],
      "text/plain": [
       "  amp_vmpCode      amp_code cti_extended delivery_env      cnk code_type\n",
       "0        None  SAM660978-00    660978-01            P  3104965       CNK\n",
       "1       16469  SAM000025-00    000025-02            P  0046128       CNK\n",
       "2       16469  SAM000025-00    000025-02            H  0708289       CNK\n",
       "3       16469  SAM000025-00    000025-02            A  0708289       CNK\n",
       "4        None  SAM660980-00    660980-01            P  3104981       CNK"
      ]
     },
     "execution_count": 10,
     "metadata": {},
     "output_type": "execute_result"
    }
   ],
   "source": [
    "df_dmpp.head()"
   ]
  },
  {
   "cell_type": "markdown",
   "id": "999bdf42",
   "metadata": {},
   "source": [
    "#### 3.4.3. Save data frames as parquet files and merge further in R"
   ]
  },
  {
   "cell_type": "code",
   "execution_count": 11,
   "id": "616a50bf",
   "metadata": {},
   "outputs": [],
   "source": [
    "import pyarrow as pa\n",
    "import pyarrow.parquet as pq"
   ]
  },
  {
   "cell_type": "code",
   "execution_count": 12,
   "id": "618bb7fe",
   "metadata": {},
   "outputs": [],
   "source": [
    "table_data = pa.Table.from_pandas(df_amp_data)\n",
    "table_ampp = pa.Table.from_pandas(df_ampp)\n",
    "table_dmpp = pa.Table.from_pandas(df_dmpp)\n",
    "\n",
    "pq.write_table(table_data, '../intego_prescription_mapping/amp_data.parquet')\n",
    "pq.write_table(table_ampp, '../intego_prescription_mapping/ampp_data.parquet')\n",
    "pq.write_table(table_dmpp, '../intego_prescription_mapping/ampp_dmpp.parquet')"
   ]
  }
 ],
 "metadata": {
  "kernelspec": {
   "display_name": "Python 3 (ipykernel)",
   "language": "python",
   "name": "python3"
  },
  "language_info": {
   "codemirror_mode": {
    "name": "ipython",
    "version": 3
   },
   "file_extension": ".py",
   "mimetype": "text/x-python",
   "name": "python",
   "nbconvert_exporter": "python",
   "pygments_lexer": "ipython3",
   "version": "3.9.13"
  }
 },
 "nbformat": 4,
 "nbformat_minor": 5
}
